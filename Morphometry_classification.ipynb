{
  "nbformat": 4,
  "nbformat_minor": 0,
  "metadata": {
    "kernelspec": {
      "display_name": "Neurobot",
      "language": "python",
      "name": "neurobot"
    },
    "language_info": {
      "codemirror_mode": {
        "name": "ipython",
        "version": 3
      },
      "file_extension": ".py",
      "mimetype": "text/x-python",
      "name": "python",
      "nbconvert_exporter": "python",
      "pygments_lexer": "ipython3",
      "version": "3.8.5"
    },
    "colab": {
      "name": "Copy of morphometry_classification.ipynb",
      "provenance": [],
      "collapsed_sections": [],
      "include_colab_link": true
    }
  },
  "cells": [
    {
      "cell_type": "markdown",
      "metadata": {
        "id": "view-in-github",
        "colab_type": "text"
      },
      "source": [
        "<a href=\"https://colab.research.google.com/github/yerzhanimanmalik/skoltech-courses/blob/master/Morphometry_classification.ipynb\" target=\"_parent\"><img src=\"https://colab.research.google.com/assets/colab-badge.svg\" alt=\"Open In Colab\"/></a>"
      ]
    },
    {
      "cell_type": "markdown",
      "metadata": {
        "id": "xLl2lqTfFZyB",
        "colab_type": "text"
      },
      "source": [
        "<a href=\"https://colab.research.google.com/drive/1GWsEqIDuIt3HR6ljwyzuA82DpXWQ5e9o\" target=\"_parent\"><img src=\"https://colab.research.google.com/assets/colab-badge.svg\" alt=\"Open In Colab\"/></a>"
      ]
    },
    {
      "cell_type": "markdown",
      "metadata": {
        "id": "3PhsoEJHnCP9",
        "colab_type": "text"
      },
      "source": [
        "## **MRI classification on morphometry data**"
      ]
    },
    {
      "cell_type": "markdown",
      "metadata": {
        "id": "g4sxyCfzrPLC",
        "colab_type": "text"
      },
      "source": [
        "#### 1. Introduction\n",
        "\n",
        "In this notebook we will do conventional morphometry analysis for gender-related morphometric sighns search.\n",
        "\n",
        "\n",
        "**Our goal will be to build a network for MEN and WOMEN brain classification, to explore gender influence on brain structure and find gender-specific biomarkers.**\n",
        "\n",
        "We will use the data from https://db.humanconnectome.org/data/projects/HCP_1200.\n",
        "\n",
        "*Proceeding with this Notebook you confirm your personal acess [to the data](https://www.humanconnectome.org/study/hcp-young-adult/document/1200-subjects-data-release). \n",
        " And your agreement on data [terms and conditions](https://www.humanconnectome.org/study/hcp-young-adult/data-use-terms).*\n"
      ]
    },
    {
      "cell_type": "markdown",
      "metadata": {
        "id": "uQdXse7UGFrZ",
        "colab_type": "text"
      },
      "source": [
        "You can use plug-and-play grid seach pipleine from https://github.com/kondratevakate/neurobot"
      ]
    },
    {
      "cell_type": "markdown",
      "metadata": {
        "id": "zdud8rHPHPsN",
        "colab_type": "text"
      },
      "source": [
        "2. Mounting Google Drive to Collab Notebook. You should go with the link and enter your personal authorization code:"
      ]
    },
    {
      "cell_type": "code",
      "metadata": {
        "id": "Ol6ubhbcHReI",
        "colab_type": "code",
        "colab": {
          "base_uri": "https://localhost:8080/",
          "height": 54
        },
        "outputId": "8ae8413e-c50d-44b6-ce44-3ab2ded0280e"
      },
      "source": [
        "from google.colab import drive\n",
        "drive.mount('/content/drive')"
      ],
      "execution_count": 1,
      "outputs": [
        {
          "output_type": "stream",
          "text": [
            "Drive already mounted at /content/drive; to attempt to forcibly remount, call drive.mount(\"/content/drive\", force_remount=True).\n"
          ],
          "name": "stdout"
        }
      ]
    },
    {
      "cell_type": "markdown",
      "metadata": {
        "id": "8PUdtNipF6vD",
        "colab_type": "text"
      },
      "source": [
        "**!!! Add a shortcut** with \"Add a shortcut\" with the `data` repository from here https://drive.google.com/drive/folders/1zajXzS7dMwaBrhauhvRph2La1uOgP6jN?usp=sharing"
      ]
    },
    {
      "cell_type": "markdown",
      "metadata": {
        "id": "s1vKmrLEGXZP",
        "colab_type": "text"
      },
      "source": [
        "After adding a shotcut change this data dir to yours own files location in Google drive and give a path to `seminars/anat` folder:"
      ]
    },
    {
      "cell_type": "code",
      "metadata": {
        "id": "RVHI9szUZtN0",
        "colab_type": "code",
        "colab": {}
      },
      "source": [
        "ls"
      ],
      "execution_count": 50,
      "outputs": []
    },
    {
      "cell_type": "code",
      "metadata": {
        "id": "0mhz9ipCnCP-",
        "colab_type": "code",
        "colab": {}
      },
      "source": [
        "data_dir = '/content/drive/My Drive/data/seminars/anat/'"
      ],
      "execution_count": 2,
      "outputs": []
    },
    {
      "cell_type": "code",
      "metadata": {
        "id": "uir7BOUAaY0Y",
        "colab_type": "code",
        "colab": {}
      },
      "source": [
        ""
      ],
      "execution_count": null,
      "outputs": []
    },
    {
      "cell_type": "markdown",
      "metadata": {
        "id": "njVakGSjnCQB",
        "colab_type": "text"
      },
      "source": [
        "### Importing the data\n",
        "\n",
        "Importing `unrestricted_freesurfer.csv` dataset from https://db.humanconnectome.org/data/projects/HCP_1200."
      ]
    },
    {
      "cell_type": "code",
      "metadata": {
        "id": "c1VbQHFjnCQC",
        "colab_type": "code",
        "colab": {}
      },
      "source": [
        "import pandas as pd\n",
        "data = pd.read_csv(data_dir + 'unrestricted_hcp_freesurfer.csv')"
      ],
      "execution_count": 3,
      "outputs": []
    },
    {
      "cell_type": "code",
      "metadata": {
        "id": "uts5jMnLIKzu",
        "colab_type": "code",
        "colab": {
          "base_uri": "https://localhost:8080/",
          "height": 253
        },
        "outputId": "4cf080d9-16a0-4117-b44d-41d7ed0b9148"
      },
      "source": [
        "data.head()"
      ],
      "execution_count": 4,
      "outputs": [
        {
          "output_type": "execute_result",
          "data": {
            "text/html": [
              "<div>\n",
              "<style scoped>\n",
              "    .dataframe tbody tr th:only-of-type {\n",
              "        vertical-align: middle;\n",
              "    }\n",
              "\n",
              "    .dataframe tbody tr th {\n",
              "        vertical-align: top;\n",
              "    }\n",
              "\n",
              "    .dataframe thead th {\n",
              "        text-align: right;\n",
              "    }\n",
              "</style>\n",
              "<table border=\"1\" class=\"dataframe\">\n",
              "  <thead>\n",
              "    <tr style=\"text-align: right;\">\n",
              "      <th></th>\n",
              "      <th>Subject</th>\n",
              "      <th>Gender</th>\n",
              "      <th>Release</th>\n",
              "      <th>FS_InterCranial_Vol</th>\n",
              "      <th>FS_BrainSeg_Vol</th>\n",
              "      <th>FS_BrainSeg_Vol_No_Vent</th>\n",
              "      <th>FS_BrainSeg_Vol_No_Vent_Surf</th>\n",
              "      <th>FS_LCort_GM_Vol</th>\n",
              "      <th>FS_RCort_GM_Vol</th>\n",
              "      <th>FS_TotCort_GM_Vol</th>\n",
              "      <th>FS_SubCort_GM_Vol</th>\n",
              "      <th>FS_Total_GM_Vol</th>\n",
              "      <th>FS_SupraTentorial_Vol</th>\n",
              "      <th>FS_SupraTentorial_Vol_No_Vent</th>\n",
              "      <th>FS_SupraTentorial_No_Vent_Voxel_Count</th>\n",
              "      <th>FS_L_WM_Vol</th>\n",
              "      <th>FS_R_WM_Vol</th>\n",
              "      <th>FS_Tot_WM_Vol</th>\n",
              "      <th>FS_Mask_Vol</th>\n",
              "      <th>FS_BrainSegVol_eTIV_Ratio</th>\n",
              "      <th>FS_MaskVol_eTIV_Ratio</th>\n",
              "      <th>FS_LH_Defect_Holes</th>\n",
              "      <th>FS_RH_Defect_Holes</th>\n",
              "      <th>FS_Total_Defect_Holes</th>\n",
              "      <th>FS_L_LatVent_Vol</th>\n",
              "      <th>FS_L_InfLatVent_Vol</th>\n",
              "      <th>FS_L_Cerebellum_WM_Vol</th>\n",
              "      <th>FS_L_Cerebellum_Cort_Vol</th>\n",
              "      <th>FS_L_ThalamusProper_Vol</th>\n",
              "      <th>FS_L_Caudate_Vol</th>\n",
              "      <th>FS_L_Putamen_Vol</th>\n",
              "      <th>FS_L_Pallidum_Vol</th>\n",
              "      <th>FS_3rdVent_Vol</th>\n",
              "      <th>FS_4thVent_Vol</th>\n",
              "      <th>FS_BrainStem_Vol</th>\n",
              "      <th>FS_L_Hippo_Vol</th>\n",
              "      <th>FS_L_Amygdala_Vol</th>\n",
              "      <th>FS_CSF_Vol</th>\n",
              "      <th>FS_L_AccumbensArea_Vol</th>\n",
              "      <th>FS_L_VentDC_Vol</th>\n",
              "      <th>...</th>\n",
              "      <th>FS_L_Superiortemporal_CurvInd</th>\n",
              "      <th>FS_L_Supramarginal_CurvInd</th>\n",
              "      <th>FS_L_Frontalpole_CurvInd</th>\n",
              "      <th>FS_L_Temporalpole_CurvInd</th>\n",
              "      <th>FS_L_Transversetemporal_CurvInd</th>\n",
              "      <th>FS_L_Insula_CurvInd</th>\n",
              "      <th>FS_R_Bankssts_CurvInd</th>\n",
              "      <th>FS_R_Caudalanteriorcingulate_CurvInd</th>\n",
              "      <th>FS_R_Caudalmiddlefrontal_CurvInd</th>\n",
              "      <th>FS_R_Cuneus_CurvInd</th>\n",
              "      <th>FS_R_Entorhinal_CurvInd</th>\n",
              "      <th>FS_R_Fusiform_CurvInd</th>\n",
              "      <th>FS_R_Inferiorparietal_CurvInd</th>\n",
              "      <th>FS_R_Inferiortemporal_CurvInd</th>\n",
              "      <th>FS_R_Isthmuscingulate_CurvInd</th>\n",
              "      <th>FS_R_Lateraloccipital_CurvInd</th>\n",
              "      <th>FS_R_Lateralorbitofrontal_CurvInd</th>\n",
              "      <th>FS_R_Lingual_CurvInd</th>\n",
              "      <th>FS_R_Medialorbitofrontal_CurvInd</th>\n",
              "      <th>FS_R_Middletemporal_CurvInd</th>\n",
              "      <th>FS_R_Parahippocampal_CurvInd</th>\n",
              "      <th>FS_R_Paracentral_CurvInd</th>\n",
              "      <th>FS_R_Parsopercularis_CurvInd</th>\n",
              "      <th>FS_R_Parsorbitalis_CurvInd</th>\n",
              "      <th>FS_R_Parstriangularis_CurvInd</th>\n",
              "      <th>FS_R_Pericalcarine_CurvInd</th>\n",
              "      <th>FS_R_Postcentral_CurvInd</th>\n",
              "      <th>FS_R_Posteriorcingulate_CurvInd</th>\n",
              "      <th>FS_R_Precentral_CurvInd</th>\n",
              "      <th>FS_R_Precuneus_CurvInd</th>\n",
              "      <th>FS_R_Rostralanteriorcingulate_CurvInd</th>\n",
              "      <th>FS_R_Rostralmiddlefrontal_CurvInd</th>\n",
              "      <th>FS_R_Superiorfrontal_CurvInd</th>\n",
              "      <th>FS_R_Superiorparietal_CurvInd</th>\n",
              "      <th>FS_R_Superiortemporal_CurvInd</th>\n",
              "      <th>FS_R_Supramarginal_CurvInd</th>\n",
              "      <th>FS_R_Frontalpole_CurvInd</th>\n",
              "      <th>FS_R_Temporalpole_CurvInd</th>\n",
              "      <th>FS_R_Transversetemporal_CurvInd</th>\n",
              "      <th>FS_R_Insula_CurvInd</th>\n",
              "    </tr>\n",
              "  </thead>\n",
              "  <tbody>\n",
              "    <tr>\n",
              "      <th>0</th>\n",
              "      <td>100206</td>\n",
              "      <td>M</td>\n",
              "      <td>S900</td>\n",
              "      <td>1.864518e+06</td>\n",
              "      <td>1406924.0</td>\n",
              "      <td>1389007.0</td>\n",
              "      <td>1.386836e+06</td>\n",
              "      <td>304488</td>\n",
              "      <td>305634</td>\n",
              "      <td>610122</td>\n",
              "      <td>70240</td>\n",
              "      <td>807245</td>\n",
              "      <td>1239692</td>\n",
              "      <td>1225550</td>\n",
              "      <td>1225476</td>\n",
              "      <td>269963</td>\n",
              "      <td>273170</td>\n",
              "      <td>543134</td>\n",
              "      <td>2118186.0</td>\n",
              "      <td>0.754578</td>\n",
              "      <td>1.136050</td>\n",
              "      <td>32</td>\n",
              "      <td>26</td>\n",
              "      <td>58</td>\n",
              "      <td>5057</td>\n",
              "      <td>399</td>\n",
              "      <td>16808</td>\n",
              "      <td>62713</td>\n",
              "      <td>10426</td>\n",
              "      <td>4599</td>\n",
              "      <td>5941</td>\n",
              "      <td>1463</td>\n",
              "      <td>1192</td>\n",
              "      <td>1367</td>\n",
              "      <td>24537</td>\n",
              "      <td>4896</td>\n",
              "      <td>1734</td>\n",
              "      <td>1358</td>\n",
              "      <td>589</td>\n",
              "      <td>4711</td>\n",
              "      <td>...</td>\n",
              "      <td>16.7</td>\n",
              "      <td>15.0</td>\n",
              "      <td>3.2</td>\n",
              "      <td>5.3</td>\n",
              "      <td>5.0</td>\n",
              "      <td>26.1</td>\n",
              "      <td>3.7</td>\n",
              "      <td>4.2</td>\n",
              "      <td>13.4</td>\n",
              "      <td>14.1</td>\n",
              "      <td>3.5</td>\n",
              "      <td>23.4</td>\n",
              "      <td>24.5</td>\n",
              "      <td>19.4</td>\n",
              "      <td>46.6</td>\n",
              "      <td>24.6</td>\n",
              "      <td>23.3</td>\n",
              "      <td>27.1</td>\n",
              "      <td>10.6</td>\n",
              "      <td>13.6</td>\n",
              "      <td>5.7</td>\n",
              "      <td>10.2</td>\n",
              "      <td>7.5</td>\n",
              "      <td>5.5</td>\n",
              "      <td>6.1</td>\n",
              "      <td>18.7</td>\n",
              "      <td>15.6</td>\n",
              "      <td>7.8</td>\n",
              "      <td>24.3</td>\n",
              "      <td>29.8</td>\n",
              "      <td>5.6</td>\n",
              "      <td>34.6</td>\n",
              "      <td>40.1</td>\n",
              "      <td>23.3</td>\n",
              "      <td>15.6</td>\n",
              "      <td>11.9</td>\n",
              "      <td>2.9</td>\n",
              "      <td>3.8</td>\n",
              "      <td>2.8</td>\n",
              "      <td>37.5</td>\n",
              "    </tr>\n",
              "    <tr>\n",
              "      <th>1</th>\n",
              "      <td>100307</td>\n",
              "      <td>F</td>\n",
              "      <td>Q1</td>\n",
              "      <td>1.512540e+06</td>\n",
              "      <td>1109710.0</td>\n",
              "      <td>1098854.0</td>\n",
              "      <td>1.097122e+06</td>\n",
              "      <td>240030</td>\n",
              "      <td>243207</td>\n",
              "      <td>483238</td>\n",
              "      <td>56623</td>\n",
              "      <td>664124</td>\n",
              "      <td>957615</td>\n",
              "      <td>948872</td>\n",
              "      <td>948846</td>\n",
              "      <td>203472</td>\n",
              "      <td>203819</td>\n",
              "      <td>407292</td>\n",
              "      <td>1549276.0</td>\n",
              "      <td>0.733673</td>\n",
              "      <td>1.024287</td>\n",
              "      <td>20</td>\n",
              "      <td>46</td>\n",
              "      <td>66</td>\n",
              "      <td>3559</td>\n",
              "      <td>103</td>\n",
              "      <td>13146</td>\n",
              "      <td>61980</td>\n",
              "      <td>7787</td>\n",
              "      <td>3764</td>\n",
              "      <td>4983</td>\n",
              "      <td>1128</td>\n",
              "      <td>529</td>\n",
              "      <td>904</td>\n",
              "      <td>21307</td>\n",
              "      <td>4140</td>\n",
              "      <td>1536</td>\n",
              "      <td>869</td>\n",
              "      <td>490</td>\n",
              "      <td>3633</td>\n",
              "      <td>...</td>\n",
              "      <td>20.4</td>\n",
              "      <td>13.0</td>\n",
              "      <td>1.5</td>\n",
              "      <td>5.1</td>\n",
              "      <td>2.9</td>\n",
              "      <td>28.8</td>\n",
              "      <td>2.7</td>\n",
              "      <td>4.1</td>\n",
              "      <td>8.7</td>\n",
              "      <td>9.3</td>\n",
              "      <td>4.0</td>\n",
              "      <td>16.2</td>\n",
              "      <td>21.9</td>\n",
              "      <td>26.9</td>\n",
              "      <td>6.5</td>\n",
              "      <td>16.9</td>\n",
              "      <td>17.2</td>\n",
              "      <td>23.6</td>\n",
              "      <td>11.5</td>\n",
              "      <td>14.8</td>\n",
              "      <td>5.9</td>\n",
              "      <td>7.1</td>\n",
              "      <td>8.1</td>\n",
              "      <td>4.2</td>\n",
              "      <td>7.3</td>\n",
              "      <td>22.0</td>\n",
              "      <td>17.0</td>\n",
              "      <td>6.5</td>\n",
              "      <td>20.9</td>\n",
              "      <td>14.9</td>\n",
              "      <td>3.3</td>\n",
              "      <td>29.9</td>\n",
              "      <td>48.8</td>\n",
              "      <td>21.6</td>\n",
              "      <td>18.6</td>\n",
              "      <td>15.0</td>\n",
              "      <td>2.9</td>\n",
              "      <td>5.8</td>\n",
              "      <td>2.0</td>\n",
              "      <td>30.2</td>\n",
              "    </tr>\n",
              "    <tr>\n",
              "      <th>2</th>\n",
              "      <td>100408</td>\n",
              "      <td>M</td>\n",
              "      <td>Q3</td>\n",
              "      <td>1.684117e+06</td>\n",
              "      <td>1280171.0</td>\n",
              "      <td>1260943.0</td>\n",
              "      <td>1.259250e+06</td>\n",
              "      <td>260695</td>\n",
              "      <td>265243</td>\n",
              "      <td>525938</td>\n",
              "      <td>63869</td>\n",
              "      <td>726206</td>\n",
              "      <td>1106881</td>\n",
              "      <td>1092248</td>\n",
              "      <td>1091784</td>\n",
              "      <td>247504</td>\n",
              "      <td>252913</td>\n",
              "      <td>500417</td>\n",
              "      <td>1844923.0</td>\n",
              "      <td>0.760144</td>\n",
              "      <td>1.095484</td>\n",
              "      <td>36</td>\n",
              "      <td>22</td>\n",
              "      <td>58</td>\n",
              "      <td>3910</td>\n",
              "      <td>51</td>\n",
              "      <td>17022</td>\n",
              "      <td>66666</td>\n",
              "      <td>9097</td>\n",
              "      <td>3647</td>\n",
              "      <td>5622</td>\n",
              "      <td>1765</td>\n",
              "      <td>1070</td>\n",
              "      <td>2622</td>\n",
              "      <td>24481</td>\n",
              "      <td>2571</td>\n",
              "      <td>1342</td>\n",
              "      <td>1098</td>\n",
              "      <td>484</td>\n",
              "      <td>5070</td>\n",
              "      <td>...</td>\n",
              "      <td>14.7</td>\n",
              "      <td>12.5</td>\n",
              "      <td>1.4</td>\n",
              "      <td>3.7</td>\n",
              "      <td>2.6</td>\n",
              "      <td>16.7</td>\n",
              "      <td>3.2</td>\n",
              "      <td>4.1</td>\n",
              "      <td>6.5</td>\n",
              "      <td>10.5</td>\n",
              "      <td>3.1</td>\n",
              "      <td>20.2</td>\n",
              "      <td>19.0</td>\n",
              "      <td>17.6</td>\n",
              "      <td>7.6</td>\n",
              "      <td>18.0</td>\n",
              "      <td>13.5</td>\n",
              "      <td>26.8</td>\n",
              "      <td>35.1</td>\n",
              "      <td>13.8</td>\n",
              "      <td>5.0</td>\n",
              "      <td>7.9</td>\n",
              "      <td>5.1</td>\n",
              "      <td>4.0</td>\n",
              "      <td>5.8</td>\n",
              "      <td>10.1</td>\n",
              "      <td>13.4</td>\n",
              "      <td>8.3</td>\n",
              "      <td>16.4</td>\n",
              "      <td>18.4</td>\n",
              "      <td>3.3</td>\n",
              "      <td>25.2</td>\n",
              "      <td>27.5</td>\n",
              "      <td>15.2</td>\n",
              "      <td>13.9</td>\n",
              "      <td>12.3</td>\n",
              "      <td>1.8</td>\n",
              "      <td>7.8</td>\n",
              "      <td>1.9</td>\n",
              "      <td>25.1</td>\n",
              "    </tr>\n",
              "    <tr>\n",
              "      <th>3</th>\n",
              "      <td>100610</td>\n",
              "      <td>M</td>\n",
              "      <td>S900</td>\n",
              "      <td>1.816044e+06</td>\n",
              "      <td>1321362.0</td>\n",
              "      <td>1306929.0</td>\n",
              "      <td>1.304569e+06</td>\n",
              "      <td>276506</td>\n",
              "      <td>278002</td>\n",
              "      <td>554508</td>\n",
              "      <td>74869</td>\n",
              "      <td>762308</td>\n",
              "      <td>1155067</td>\n",
              "      <td>1144617</td>\n",
              "      <td>1144560</td>\n",
              "      <td>254742</td>\n",
              "      <td>258203</td>\n",
              "      <td>512946</td>\n",
              "      <td>1827401.0</td>\n",
              "      <td>0.727605</td>\n",
              "      <td>1.006254</td>\n",
              "      <td>16</td>\n",
              "      <td>20</td>\n",
              "      <td>36</td>\n",
              "      <td>4262</td>\n",
              "      <td>266</td>\n",
              "      <td>15463</td>\n",
              "      <td>66293</td>\n",
              "      <td>9613</td>\n",
              "      <td>4924</td>\n",
              "      <td>6690</td>\n",
              "      <td>1961</td>\n",
              "      <td>899</td>\n",
              "      <td>2076</td>\n",
              "      <td>25477</td>\n",
              "      <td>5608</td>\n",
              "      <td>1848</td>\n",
              "      <td>1141</td>\n",
              "      <td>734</td>\n",
              "      <td>5204</td>\n",
              "      <td>...</td>\n",
              "      <td>10.8</td>\n",
              "      <td>10.3</td>\n",
              "      <td>0.9</td>\n",
              "      <td>3.2</td>\n",
              "      <td>1.6</td>\n",
              "      <td>51.4</td>\n",
              "      <td>1.4</td>\n",
              "      <td>2.8</td>\n",
              "      <td>5.2</td>\n",
              "      <td>9.4</td>\n",
              "      <td>2.9</td>\n",
              "      <td>10.8</td>\n",
              "      <td>17.7</td>\n",
              "      <td>12.1</td>\n",
              "      <td>4.7</td>\n",
              "      <td>14.4</td>\n",
              "      <td>10.3</td>\n",
              "      <td>17.5</td>\n",
              "      <td>10.4</td>\n",
              "      <td>13.0</td>\n",
              "      <td>3.1</td>\n",
              "      <td>3.2</td>\n",
              "      <td>3.7</td>\n",
              "      <td>2.6</td>\n",
              "      <td>4.2</td>\n",
              "      <td>9.7</td>\n",
              "      <td>9.8</td>\n",
              "      <td>4.9</td>\n",
              "      <td>13.7</td>\n",
              "      <td>12.7</td>\n",
              "      <td>3.0</td>\n",
              "      <td>19.6</td>\n",
              "      <td>20.0</td>\n",
              "      <td>18.6</td>\n",
              "      <td>10.6</td>\n",
              "      <td>10.8</td>\n",
              "      <td>1.2</td>\n",
              "      <td>4.1</td>\n",
              "      <td>1.4</td>\n",
              "      <td>16.6</td>\n",
              "    </tr>\n",
              "    <tr>\n",
              "      <th>4</th>\n",
              "      <td>101006</td>\n",
              "      <td>F</td>\n",
              "      <td>S500</td>\n",
              "      <td>1.437868e+06</td>\n",
              "      <td>1053766.0</td>\n",
              "      <td>1038408.0</td>\n",
              "      <td>1.037793e+06</td>\n",
              "      <td>203718</td>\n",
              "      <td>210539</td>\n",
              "      <td>414257</td>\n",
              "      <td>58813</td>\n",
              "      <td>579632</td>\n",
              "      <td>916973</td>\n",
              "      <td>905210</td>\n",
              "      <td>903059</td>\n",
              "      <td>213012</td>\n",
              "      <td>216438</td>\n",
              "      <td>429449</td>\n",
              "      <td>1478182.0</td>\n",
              "      <td>0.732867</td>\n",
              "      <td>1.028038</td>\n",
              "      <td>9</td>\n",
              "      <td>13</td>\n",
              "      <td>22</td>\n",
              "      <td>4321</td>\n",
              "      <td>874</td>\n",
              "      <td>15105</td>\n",
              "      <td>52591</td>\n",
              "      <td>7838</td>\n",
              "      <td>3436</td>\n",
              "      <td>5726</td>\n",
              "      <td>1765</td>\n",
              "      <td>592</td>\n",
              "      <td>2184</td>\n",
              "      <td>22493</td>\n",
              "      <td>3925</td>\n",
              "      <td>1524</td>\n",
              "      <td>968</td>\n",
              "      <td>579</td>\n",
              "      <td>4665</td>\n",
              "      <td>...</td>\n",
              "      <td>8.0</td>\n",
              "      <td>7.5</td>\n",
              "      <td>0.8</td>\n",
              "      <td>2.8</td>\n",
              "      <td>1.5</td>\n",
              "      <td>9.2</td>\n",
              "      <td>1.4</td>\n",
              "      <td>5.1</td>\n",
              "      <td>4.1</td>\n",
              "      <td>6.3</td>\n",
              "      <td>2.4</td>\n",
              "      <td>9.6</td>\n",
              "      <td>12.7</td>\n",
              "      <td>7.6</td>\n",
              "      <td>6.1</td>\n",
              "      <td>20.8</td>\n",
              "      <td>8.9</td>\n",
              "      <td>11.6</td>\n",
              "      <td>5.4</td>\n",
              "      <td>8.4</td>\n",
              "      <td>1.7</td>\n",
              "      <td>2.3</td>\n",
              "      <td>3.2</td>\n",
              "      <td>2.9</td>\n",
              "      <td>4.8</td>\n",
              "      <td>7.1</td>\n",
              "      <td>9.0</td>\n",
              "      <td>4.0</td>\n",
              "      <td>15.1</td>\n",
              "      <td>14.6</td>\n",
              "      <td>2.9</td>\n",
              "      <td>14.7</td>\n",
              "      <td>21.3</td>\n",
              "      <td>13.2</td>\n",
              "      <td>8.7</td>\n",
              "      <td>9.8</td>\n",
              "      <td>1.1</td>\n",
              "      <td>3.0</td>\n",
              "      <td>1.0</td>\n",
              "      <td>18.9</td>\n",
              "    </tr>\n",
              "  </tbody>\n",
              "</table>\n",
              "<p>5 rows × 938 columns</p>\n",
              "</div>"
            ],
            "text/plain": [
              "   Subject Gender  ... FS_R_Transversetemporal_CurvInd  FS_R_Insula_CurvInd\n",
              "0   100206      M  ...                             2.8                 37.5\n",
              "1   100307      F  ...                             2.0                 30.2\n",
              "2   100408      M  ...                             1.9                 25.1\n",
              "3   100610      M  ...                             1.4                 16.6\n",
              "4   101006      F  ...                             1.0                 18.9\n",
              "\n",
              "[5 rows x 938 columns]"
            ]
          },
          "metadata": {
            "tags": []
          },
          "execution_count": 4
        }
      ]
    },
    {
      "cell_type": "markdown",
      "metadata": {
        "id": "Qi34ZClwnCQE",
        "colab_type": "text"
      },
      "source": [
        "##### Defining train and test data\n",
        "\n",
        "Choose your X (train_data) and y (train_targets) as `pandas.DataFrame()` or  `numpy.array()`:"
      ]
    },
    {
      "cell_type": "code",
      "metadata": {
        "id": "BExIpA9onCQF",
        "colab_type": "code",
        "colab": {
          "base_uri": "https://localhost:8080/",
          "height": 34
        },
        "outputId": "52dfe97b-62ad-46e8-b43c-c18bb3d7cc40"
      },
      "source": [
        "X = data[data.columns[3:]]\n",
        "y = data[data.columns[1]]\n",
        "X.shape, y.shape"
      ],
      "execution_count": 5,
      "outputs": [
        {
          "output_type": "execute_result",
          "data": {
            "text/plain": [
              "((1113, 935), (1113,))"
            ]
          },
          "metadata": {
            "tags": []
          },
          "execution_count": 5
        }
      ]
    },
    {
      "cell_type": "code",
      "metadata": {
        "id": "IzDnPjoaIji3",
        "colab_type": "code",
        "colab": {
          "base_uri": "https://localhost:8080/",
          "height": 68
        },
        "outputId": "027eaf95-a02a-4d73-ff9b-2f96a8d3ae24"
      },
      "source": [
        "y.value_counts()"
      ],
      "execution_count": 6,
      "outputs": [
        {
          "output_type": "execute_result",
          "data": {
            "text/plain": [
              "F    606\n",
              "M    507\n",
              "Name: Gender, dtype: int64"
            ]
          },
          "metadata": {
            "tags": []
          },
          "execution_count": 6
        }
      ]
    },
    {
      "cell_type": "markdown",
      "metadata": {
        "id": "Lghd2jU0JL2D",
        "colab_type": "text"
      },
      "source": [
        "Let's change `str` values to binary classes. The easy but BAD way is:"
      ]
    },
    {
      "cell_type": "code",
      "metadata": {
        "id": "11AVw7QKJCVI",
        "colab_type": "code",
        "colab": {
          "base_uri": "https://localhost:8080/",
          "height": 263
        },
        "outputId": "d611d841-e2c6-4653-ac8d-2d39e3842111"
      },
      "source": [
        "y[y == 'F'] = 1\n",
        "y[y == 'M'] = 0\n",
        "y = y.astype(int)\n",
        "y.value_counts()"
      ],
      "execution_count": null,
      "outputs": [
        {
          "output_type": "stream",
          "text": [
            "/usr/local/lib/python3.6/dist-packages/ipykernel_launcher.py:1: SettingWithCopyWarning: \n",
            "A value is trying to be set on a copy of a slice from a DataFrame\n",
            "\n",
            "See the caveats in the documentation: https://pandas.pydata.org/pandas-docs/stable/user_guide/indexing.html#returning-a-view-versus-a-copy\n",
            "  \"\"\"Entry point for launching an IPython kernel.\n",
            "/usr/local/lib/python3.6/dist-packages/ipykernel_launcher.py:2: SettingWithCopyWarning: \n",
            "A value is trying to be set on a copy of a slice from a DataFrame\n",
            "\n",
            "See the caveats in the documentation: https://pandas.pydata.org/pandas-docs/stable/user_guide/indexing.html#returning-a-view-versus-a-copy\n",
            "  \n"
          ],
          "name": "stderr"
        },
        {
          "output_type": "execute_result",
          "data": {
            "text/plain": [
              "1    606\n",
              "0    507\n",
              "Name: Gender, dtype: int64"
            ]
          },
          "metadata": {
            "tags": []
          },
          "execution_count": 21
        }
      ]
    },
    {
      "cell_type": "markdown",
      "metadata": {
        "id": "ChvHD-DYnCQI",
        "colab_type": "text"
      },
      "source": [
        "##### Defining model grid search\n",
        "\n",
        " Defining new object of Grid Cross Validation Linear class:"
      ]
    },
    {
      "cell_type": "code",
      "metadata": {
        "id": "gkemN_lFnCQI",
        "colab_type": "code",
        "colab": {}
      },
      "source": [
        "from sklearn.linear_model import LogisticRegressionCV"
      ],
      "execution_count": 7,
      "outputs": []
    },
    {
      "cell_type": "code",
      "metadata": {
        "id": "djWwplp8nCQK",
        "colab_type": "code",
        "colab": {
          "base_uri": "https://localhost:8080/",
          "height": 258
        },
        "outputId": "b70a5aad-7ed2-43f9-917b-0bb4dad39765"
      },
      "source": [
        "# will run for 1-2 minutes\n",
        "lr_cv = LogisticRegressionCV(max_iter = 1000, random_state = 42, n_jobs = -1)\n",
        "lr_cv.fit(X,y)"
      ],
      "execution_count": 8,
      "outputs": [
        {
          "output_type": "stream",
          "text": [
            "/usr/local/lib/python3.6/dist-packages/sklearn/linear_model/_logistic.py:940: ConvergenceWarning: lbfgs failed to converge (status=1):\n",
            "STOP: TOTAL NO. of ITERATIONS REACHED LIMIT.\n",
            "\n",
            "Increase the number of iterations (max_iter) or scale the data as shown in:\n",
            "    https://scikit-learn.org/stable/modules/preprocessing.html\n",
            "Please also refer to the documentation for alternative solver options:\n",
            "    https://scikit-learn.org/stable/modules/linear_model.html#logistic-regression\n",
            "  extra_warning_msg=_LOGISTIC_SOLVER_CONVERGENCE_MSG)\n"
          ],
          "name": "stderr"
        },
        {
          "output_type": "execute_result",
          "data": {
            "text/plain": [
              "LogisticRegressionCV(Cs=10, class_weight=None, cv=None, dual=False,\n",
              "                     fit_intercept=True, intercept_scaling=1.0, l1_ratios=None,\n",
              "                     max_iter=1000, multi_class='auto', n_jobs=-1, penalty='l2',\n",
              "                     random_state=42, refit=True, scoring=None, solver='lbfgs',\n",
              "                     tol=0.0001, verbose=0)"
            ]
          },
          "metadata": {
            "tags": []
          },
          "execution_count": 8
        }
      ]
    },
    {
      "cell_type": "code",
      "metadata": {
        "id": "bFWvIVcYJrya",
        "colab_type": "code",
        "colab": {
          "base_uri": "https://localhost:8080/",
          "height": 187
        },
        "outputId": "a8ea60aa-03b7-4940-b389-c51d30ae5f74"
      },
      "source": [
        "lr_cv.scores_"
      ],
      "execution_count": 9,
      "outputs": [
        {
          "output_type": "execute_result",
          "data": {
            "text/plain": [
              "{'M': array([[0.77578475, 0.79372197, 0.77578475, 0.78475336, 0.78923767,\n",
              "         0.80269058, 0.80717489, 0.80717489, 0.80717489, 0.8206278 ],\n",
              "        [0.74439462, 0.76681614, 0.75784753, 0.78026906, 0.79820628,\n",
              "         0.78026906, 0.79372197, 0.78026906, 0.78475336, 0.77578475],\n",
              "        [0.79372197, 0.85650224, 0.85201794, 0.83856502, 0.83408072,\n",
              "         0.84304933, 0.83408072, 0.83408072, 0.82511211, 0.84304933],\n",
              "        [0.77027027, 0.7972973 , 0.82432432, 0.81531532, 0.83333333,\n",
              "         0.82882883, 0.81531532, 0.81531532, 0.82882883, 0.82432432],\n",
              "        [0.83333333, 0.83333333, 0.84684685, 0.81531532, 0.82882883,\n",
              "         0.82882883, 0.81981982, 0.81081081, 0.81981982, 0.81981982]])}"
            ]
          },
          "metadata": {
            "tags": []
          },
          "execution_count": 9
        }
      ]
    },
    {
      "cell_type": "markdown",
      "metadata": {
        "id": "rozToSPHC2Kh",
        "colab_type": "text"
      },
      "source": [
        "## What else?\n",
        "\n",
        "1. Model interpretation\n",
        "2. Biomarkers xploration\n",
        "3. Statistical testing"
      ]
    },
    {
      "cell_type": "markdown",
      "metadata": {
        "id": "S7Eo1Z-MDSRD",
        "colab_type": "text"
      },
      "source": [
        "How we can exploge gender morphometry biomarkers from here?"
      ]
    },
    {
      "cell_type": "code",
      "metadata": {
        "id": "9v5V8yCqSywb",
        "colab_type": "code",
        "colab": {}
      },
      "source": [
        "#lr_cv.coef_"
      ],
      "execution_count": 10,
      "outputs": []
    },
    {
      "cell_type": "markdown",
      "metadata": {
        "id": "A2x0qT2rDnCT",
        "colab_type": "text"
      },
      "source": [
        "What about feature selection?\n",
        "\n",
        "https://scikit-learn.org/stable/modules/generated/sklearn.feature_selection.SelectKBest.html"
      ]
    },
    {
      "cell_type": "code",
      "metadata": {
        "id": "x2hMu_UBDqpd",
        "colab_type": "code",
        "colab": {
          "base_uri": "https://localhost:8080/",
          "height": 122
        },
        "outputId": "98620224-5320-4afa-ee91-686fa9b35473"
      },
      "source": [
        "from sklearn.feature_selection import SelectKBest, chi2\n",
        "X_new = SelectKBest(k=20).fit_transform(X, y)"
      ],
      "execution_count": 11,
      "outputs": [
        {
          "output_type": "stream",
          "text": [
            "/usr/local/lib/python3.6/dist-packages/sklearn/feature_selection/_univariate_selection.py:114: UserWarning: Features [ 55  56  57  58  98  99 100 101 174 175 176 177 178 179 180 181 293 294\n",
            " 295 296 297 298 299 300 301 302 303 304] are constant.\n",
            "  UserWarning)\n",
            "/usr/local/lib/python3.6/dist-packages/sklearn/feature_selection/_univariate_selection.py:115: RuntimeWarning: invalid value encountered in true_divide\n",
            "  f = msb / msw\n"
          ],
          "name": "stderr"
        }
      ]
    },
    {
      "cell_type": "code",
      "metadata": {
        "id": "XQXY0ClIG2uB",
        "colab_type": "code",
        "colab": {
          "base_uri": "https://localhost:8080/",
          "height": 275
        },
        "outputId": "39ec4ec6-b7f3-43be-fe46-138f7dd0373a"
      },
      "source": [
        "X.columns[SelectKBest(k=20).fit(X, y).get_support()]"
      ],
      "execution_count": 12,
      "outputs": [
        {
          "output_type": "stream",
          "text": [
            "/usr/local/lib/python3.6/dist-packages/sklearn/feature_selection/_univariate_selection.py:114: UserWarning: Features [ 55  56  57  58  98  99 100 101 174 175 176 177 178 179 180 181 293 294\n",
            " 295 296 297 298 299 300 301 302 303 304] are constant.\n",
            "  UserWarning)\n",
            "/usr/local/lib/python3.6/dist-packages/sklearn/feature_selection/_univariate_selection.py:115: RuntimeWarning: invalid value encountered in true_divide\n",
            "  f = msb / msw\n"
          ],
          "name": "stderr"
        },
        {
          "output_type": "execute_result",
          "data": {
            "text/plain": [
              "Index(['FS_InterCranial_Vol', 'FS_BrainSeg_Vol', 'FS_BrainSeg_Vol_No_Vent',\n",
              "       'FS_BrainSeg_Vol_No_Vent_Surf', 'FS_LCort_GM_Vol', 'FS_RCort_GM_Vol',\n",
              "       'FS_TotCort_GM_Vol', 'FS_SubCort_GM_Vol', 'FS_Total_GM_Vol',\n",
              "       'FS_SupraTentorial_Vol', 'FS_SupraTentorial_Vol_No_Vent',\n",
              "       'FS_SupraTentorial_No_Vent_Voxel_Count', 'FS_L_WM_Vol', 'FS_R_WM_Vol',\n",
              "       'FS_Tot_WM_Vol', 'FS_Mask_Vol', 'FS_L_Amygdala_Vol',\n",
              "       'FS_L_Cerebellum_Cort_Vol.1', 'FS_L_Amygdala_Vox',\n",
              "       'FS_R_Insula_GrayVol'],\n",
              "      dtype='object')"
            ]
          },
          "metadata": {
            "tags": []
          },
          "execution_count": 12
        }
      ]
    },
    {
      "cell_type": "code",
      "metadata": {
        "id": "0hu3kI16dZu2",
        "colab_type": "code",
        "colab": {}
      },
      "source": [
        ""
      ],
      "execution_count": 12,
      "outputs": []
    }
  ]
}