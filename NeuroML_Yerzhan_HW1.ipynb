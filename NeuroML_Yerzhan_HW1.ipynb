{
  "nbformat": 4,
  "nbformat_minor": 0,
  "metadata": {
    "kernelspec": {
      "display_name": "Python 3",
      "language": "python",
      "name": "python3"
    },
    "language_info": {
      "codemirror_mode": {
        "name": "ipython",
        "version": 3
      },
      "file_extension": ".py",
      "mimetype": "text/x-python",
      "name": "python",
      "nbconvert_exporter": "python",
      "pygments_lexer": "ipython3",
      "version": "3.7.6"
    },
    "colab": {
      "name": "NeuroML_Yerzhan_HW1.ipynb",
      "provenance": [],
      "collapsed_sections": [],
      "toc_visible": true,
      "include_colab_link": true
    }
  },
  "cells": [
    {
      "cell_type": "markdown",
      "metadata": {
        "id": "view-in-github",
        "colab_type": "text"
      },
      "source": [
        "<a href=\"https://colab.research.google.com/github/yerzhanimanmalik/skoltech-courses/blob/master/NeuroML_Yerzhan_HW1.ipynb\" target=\"_parent\"><img src=\"https://colab.research.google.com/assets/colab-badge.svg\" alt=\"Open In Colab\"/></a>"
      ]
    },
    {
      "cell_type": "markdown",
      "metadata": {
        "id": "Dnhy7dw-g5jC",
        "colab_type": "text"
      },
      "source": [
        "# HW1 - baseline\n",
        "\n",
        "[![Open In Colab](https://colab.research.google.com/assets/colab-badge.svg)](https://colab.research.google.com/github/adasegroup/NEUROML2020/blob/seminar1/seminar1/hw1-baseline.ipynb)\n",
        "\n",
        "In this notebook we handle the homework data in order to predict motion over rest using EEG"
      ]
    },
    {
      "cell_type": "markdown",
      "metadata": {
        "id": "72zBV4BBiSqW",
        "colab_type": "text"
      },
      "source": [
        "## Load data"
      ]
    },
    {
      "cell_type": "code",
      "metadata": {
        "id": "KlBGXznCg5jE",
        "colab_type": "code",
        "colab": {
          "base_uri": "https://localhost:8080/",
          "height": 462
        },
        "outputId": "79c8a4eb-3aca-4b04-c324-09837a2ea7b6"
      },
      "source": [
        "# For Colab only\n",
        "!pip install mne\n",
        "!wget https://raw.githubusercontent.com/adasegroup/NEUROML2020/seminar1/seminar1/train.csv\n",
        "!wget https://raw.githubusercontent.com/adasegroup/NEUROML2020/seminar1/seminar1/test.csv"
      ],
      "execution_count": 50,
      "outputs": [
        {
          "output_type": "stream",
          "text": [
            "Requirement already satisfied: mne in /usr/local/lib/python3.6/dist-packages (0.21.0)\n",
            "Requirement already satisfied: numpy>=1.11.3 in /usr/local/lib/python3.6/dist-packages (from mne) (1.18.5)\n",
            "Requirement already satisfied: scipy>=0.17.1 in /usr/local/lib/python3.6/dist-packages (from mne) (1.4.1)\n",
            "--2020-09-25 04:09:34--  https://raw.githubusercontent.com/adasegroup/NEUROML2020/seminar1/seminar1/train.csv\n",
            "Resolving raw.githubusercontent.com (raw.githubusercontent.com)... 151.101.0.133, 151.101.64.133, 151.101.128.133, ...\n",
            "Connecting to raw.githubusercontent.com (raw.githubusercontent.com)|151.101.0.133|:443... connected.\n",
            "HTTP request sent, awaiting response... 200 OK\n",
            "Length: 5381138 (5.1M) [text/plain]\n",
            "Saving to: ‘train.csv.1’\n",
            "\n",
            "train.csv.1         100%[===================>]   5.13M  18.7MB/s    in 0.3s    \n",
            "\n",
            "2020-09-25 04:09:36 (18.7 MB/s) - ‘train.csv.1’ saved [5381138/5381138]\n",
            "\n",
            "--2020-09-25 04:09:36--  https://raw.githubusercontent.com/adasegroup/NEUROML2020/seminar1/seminar1/test.csv\n",
            "Resolving raw.githubusercontent.com (raw.githubusercontent.com)... 151.101.0.133, 151.101.64.133, 151.101.128.133, ...\n",
            "Connecting to raw.githubusercontent.com (raw.githubusercontent.com)|151.101.0.133|:443... connected.\n",
            "HTTP request sent, awaiting response... 200 OK\n",
            "Length: 3567877 (3.4M) [text/plain]\n",
            "Saving to: ‘test.csv.1’\n",
            "\n",
            "test.csv.1          100%[===================>]   3.40M  11.4MB/s    in 0.3s    \n",
            "\n",
            "2020-09-25 04:09:38 (11.4 MB/s) - ‘test.csv.1’ saved [3567877/3567877]\n",
            "\n"
          ],
          "name": "stdout"
        }
      ]
    },
    {
      "cell_type": "code",
      "metadata": {
        "id": "socTQTJBg5jL",
        "colab_type": "code",
        "colab": {}
      },
      "source": [
        "import pandas as pd\n",
        "import numpy as np\n",
        "import matplotlib.pyplot as plt\n",
        "import seaborn as sns\n",
        "\n",
        "from mne.time_frequency import psd_array_multitaper\n",
        "\n",
        "from sklearn.model_selection import train_test_split\n",
        "from sklearn.preprocessing import StandardScaler\n",
        "from sklearn.linear_model import LogisticRegression\n",
        "from sklearn.metrics import roc_auc_score\n",
        "from sklearn.manifold import TSNE\n",
        "\n",
        "%matplotlib inline"
      ],
      "execution_count": 51,
      "outputs": []
    },
    {
      "cell_type": "code",
      "metadata": {
        "id": "JLYgPHtlg5jQ",
        "colab_type": "code",
        "colab": {
          "base_uri": "https://localhost:8080/",
          "height": 34
        },
        "outputId": "a6ae5c36-8476-4ed1-e8aa-15657737cafe"
      },
      "source": [
        "df_train = pd.read_csv('train.csv')\n",
        "df_test = pd.read_csv('test.csv')\n",
        "len(df_train['epoch'].unique())"
      ],
      "execution_count": 52,
      "outputs": [
        {
          "output_type": "execute_result",
          "data": {
            "text/plain": [
              "180"
            ]
          },
          "metadata": {
            "tags": []
          },
          "execution_count": 52
        }
      ]
    },
    {
      "cell_type": "code",
      "metadata": {
        "id": "ARoWyszAg5jT",
        "colab_type": "code",
        "colab": {
          "base_uri": "https://localhost:8080/",
          "height": 224
        },
        "outputId": "df10454c-3a07-491a-e226-17743fd225a3"
      },
      "source": [
        "df_train.head()"
      ],
      "execution_count": 53,
      "outputs": [
        {
          "output_type": "execute_result",
          "data": {
            "text/html": [
              "<div>\n",
              "<style scoped>\n",
              "    .dataframe tbody tr th:only-of-type {\n",
              "        vertical-align: middle;\n",
              "    }\n",
              "\n",
              "    .dataframe tbody tr th {\n",
              "        vertical-align: top;\n",
              "    }\n",
              "\n",
              "    .dataframe thead th {\n",
              "        text-align: right;\n",
              "    }\n",
              "</style>\n",
              "<table border=\"1\" class=\"dataframe\">\n",
              "  <thead>\n",
              "    <tr style=\"text-align: right;\">\n",
              "      <th></th>\n",
              "      <th>time</th>\n",
              "      <th>condition</th>\n",
              "      <th>epoch</th>\n",
              "      <th>C3</th>\n",
              "      <th>Cz</th>\n",
              "      <th>C4</th>\n",
              "      <th>Fp1</th>\n",
              "      <th>Fp2</th>\n",
              "      <th>F7</th>\n",
              "      <th>F3</th>\n",
              "      <th>Fz</th>\n",
              "      <th>F4</th>\n",
              "      <th>F8</th>\n",
              "      <th>T7</th>\n",
              "      <th>T8</th>\n",
              "      <th>P7</th>\n",
              "      <th>P3</th>\n",
              "      <th>Pz</th>\n",
              "      <th>P4</th>\n",
              "      <th>P8</th>\n",
              "      <th>O1</th>\n",
              "      <th>O2</th>\n",
              "    </tr>\n",
              "  </thead>\n",
              "  <tbody>\n",
              "    <tr>\n",
              "      <th>0</th>\n",
              "      <td>0</td>\n",
              "      <td>1</td>\n",
              "      <td>0</td>\n",
              "      <td>-5.885714</td>\n",
              "      <td>-2.533107</td>\n",
              "      <td>9.866895</td>\n",
              "      <td>7.962973</td>\n",
              "      <td>5.694433</td>\n",
              "      <td>23.638605</td>\n",
              "      <td>27.899784</td>\n",
              "      <td>13.487987</td>\n",
              "      <td>6.664778</td>\n",
              "      <td>23.588723</td>\n",
              "      <td>12.178548</td>\n",
              "      <td>0.685809</td>\n",
              "      <td>-4.887397</td>\n",
              "      <td>-10.646985</td>\n",
              "      <td>-14.735646</td>\n",
              "      <td>-8.729323</td>\n",
              "      <td>-0.562578</td>\n",
              "      <td>-17.055458</td>\n",
              "      <td>-3.616732</td>\n",
              "    </tr>\n",
              "    <tr>\n",
              "      <th>1</th>\n",
              "      <td>1</td>\n",
              "      <td>1</td>\n",
              "      <td>0</td>\n",
              "      <td>-7.999715</td>\n",
              "      <td>-16.916729</td>\n",
              "      <td>-11.924855</td>\n",
              "      <td>17.955477</td>\n",
              "      <td>8.526994</td>\n",
              "      <td>56.635981</td>\n",
              "      <td>28.508435</td>\n",
              "      <td>6.782457</td>\n",
              "      <td>-0.899474</td>\n",
              "      <td>1.045533</td>\n",
              "      <td>14.656061</td>\n",
              "      <td>-4.119778</td>\n",
              "      <td>-4.632381</td>\n",
              "      <td>-17.980657</td>\n",
              "      <td>-23.456960</td>\n",
              "      <td>-12.960684</td>\n",
              "      <td>-9.639784</td>\n",
              "      <td>-20.233549</td>\n",
              "      <td>-1.229811</td>\n",
              "    </tr>\n",
              "    <tr>\n",
              "      <th>2</th>\n",
              "      <td>2</td>\n",
              "      <td>1</td>\n",
              "      <td>0</td>\n",
              "      <td>-6.727283</td>\n",
              "      <td>-15.979567</td>\n",
              "      <td>-11.114195</td>\n",
              "      <td>17.183478</td>\n",
              "      <td>4.497028</td>\n",
              "      <td>43.914130</td>\n",
              "      <td>10.079754</td>\n",
              "      <td>-6.513665</td>\n",
              "      <td>-13.268111</td>\n",
              "      <td>-14.741630</td>\n",
              "      <td>14.793562</td>\n",
              "      <td>-6.624813</td>\n",
              "      <td>-3.402757</td>\n",
              "      <td>-10.269473</td>\n",
              "      <td>-18.736144</td>\n",
              "      <td>-3.579046</td>\n",
              "      <td>-0.045658</td>\n",
              "      <td>-14.089755</td>\n",
              "      <td>2.453398</td>\n",
              "    </tr>\n",
              "    <tr>\n",
              "      <th>3</th>\n",
              "      <td>3</td>\n",
              "      <td>1</td>\n",
              "      <td>0</td>\n",
              "      <td>6.819390</td>\n",
              "      <td>-0.204905</td>\n",
              "      <td>10.090124</td>\n",
              "      <td>20.265222</td>\n",
              "      <td>7.843006</td>\n",
              "      <td>36.250611</td>\n",
              "      <td>13.291199</td>\n",
              "      <td>-1.018772</td>\n",
              "      <td>-9.406679</td>\n",
              "      <td>-7.135541</td>\n",
              "      <td>21.723418</td>\n",
              "      <td>-2.276825</td>\n",
              "      <td>2.066859</td>\n",
              "      <td>4.325365</td>\n",
              "      <td>-2.803322</td>\n",
              "      <td>8.835114</td>\n",
              "      <td>13.878945</td>\n",
              "      <td>-5.772410</td>\n",
              "      <td>7.657873</td>\n",
              "    </tr>\n",
              "    <tr>\n",
              "      <th>4</th>\n",
              "      <td>4</td>\n",
              "      <td>1</td>\n",
              "      <td>0</td>\n",
              "      <td>13.129486</td>\n",
              "      <td>-5.817193</td>\n",
              "      <td>5.040633</td>\n",
              "      <td>19.462210</td>\n",
              "      <td>9.634234</td>\n",
              "      <td>42.311729</td>\n",
              "      <td>20.641012</td>\n",
              "      <td>3.262756</td>\n",
              "      <td>-3.990618</td>\n",
              "      <td>0.015602</td>\n",
              "      <td>19.703190</td>\n",
              "      <td>3.739076</td>\n",
              "      <td>2.714350</td>\n",
              "      <td>3.251047</td>\n",
              "      <td>-3.631448</td>\n",
              "      <td>3.212956</td>\n",
              "      <td>4.635574</td>\n",
              "      <td>-5.045448</td>\n",
              "      <td>5.086024</td>\n",
              "    </tr>\n",
              "  </tbody>\n",
              "</table>\n",
              "</div>"
            ],
            "text/plain": [
              "   time  condition  epoch         C3  ...         P4         P8         O1        O2\n",
              "0     0          1      0  -5.885714  ...  -8.729323  -0.562578 -17.055458 -3.616732\n",
              "1     1          1      0  -7.999715  ... -12.960684  -9.639784 -20.233549 -1.229811\n",
              "2     2          1      0  -6.727283  ...  -3.579046  -0.045658 -14.089755  2.453398\n",
              "3     3          1      0   6.819390  ...   8.835114  13.878945  -5.772410  7.657873\n",
              "4     4          1      0  13.129486  ...   3.212956   4.635574  -5.045448  5.086024\n",
              "\n",
              "[5 rows x 22 columns]"
            ]
          },
          "metadata": {
            "tags": []
          },
          "execution_count": 53
        }
      ]
    },
    {
      "cell_type": "code",
      "metadata": {
        "id": "loUkMxBmJuS5",
        "colab_type": "code",
        "colab": {
          "base_uri": "https://localhost:8080/",
          "height": 34
        },
        "outputId": "e5e1ae85-de28-4af3-f8e2-1434ff45add2"
      },
      "source": [
        "np.unique(df_train['condition'])"
      ],
      "execution_count": 54,
      "outputs": [
        {
          "output_type": "execute_result",
          "data": {
            "text/plain": [
              "array([1, 2, 3])"
            ]
          },
          "metadata": {
            "tags": []
          },
          "execution_count": 54
        }
      ]
    },
    {
      "cell_type": "code",
      "metadata": {
        "id": "Y-PLkwSBg5ja",
        "colab_type": "code",
        "colab": {
          "base_uri": "https://localhost:8080/",
          "height": 255
        },
        "outputId": "66e272e1-352d-4956-94e3-691c7acfc261"
      },
      "source": [
        "ch_names = df_train.columns[3:]\n",
        "epochs = df_train['epoch'].unique()\n",
        "epochs"
      ],
      "execution_count": 55,
      "outputs": [
        {
          "output_type": "execute_result",
          "data": {
            "text/plain": [
              "array([  0,   2,   6,   8,  11,  13,  15,  16,  17,  18,  19,  20,  21,\n",
              "        22,  23,  24,  25,  26,  29,  30,  31,  32,  33,  34,  36,  37,\n",
              "        38,  39,  42,  43,  44,  46,  47,  48,  49,  50,  51,  52,  53,\n",
              "        54,  55,  56,  58,  60,  61,  62,  64,  65,  66,  67,  68,  69,\n",
              "        74,  77,  79,  80,  81,  86,  87,  88,  89,  90,  91,  93,  95,\n",
              "        96,  97,  99, 101, 102, 105, 107, 109, 110, 111, 113, 115, 117,\n",
              "       118, 126, 127, 128, 129, 131, 134, 135, 136, 137, 138, 139, 141,\n",
              "       142, 143, 144, 145, 147, 151, 152, 154, 155, 156, 157, 158, 159,\n",
              "       160, 162, 164, 166, 167, 169, 171, 172, 173, 174, 175, 176, 177,\n",
              "       181, 182, 184, 185, 187, 192, 193, 194, 196, 197, 200, 201, 202,\n",
              "       204, 205, 210, 212, 216, 217, 221, 222, 223, 225, 226, 227, 228,\n",
              "       230, 231, 233, 234, 235, 237, 239, 240, 241, 244, 245, 246, 248,\n",
              "       250, 253, 254, 255, 261, 262, 263, 265, 268, 269, 270, 276, 277,\n",
              "       279, 281, 283, 285, 287, 290, 292, 293, 294, 297, 298])"
            ]
          },
          "metadata": {
            "tags": []
          },
          "execution_count": 55
        }
      ]
    },
    {
      "cell_type": "code",
      "metadata": {
        "id": "Vvyznxcwg5jm",
        "colab_type": "code",
        "colab": {}
      },
      "source": [
        "def get_target(df):\n",
        "    return df.drop_duplicates('epoch')[['epoch', 'condition']].reset_index(drop=True)"
      ],
      "execution_count": 56,
      "outputs": []
    },
    {
      "cell_type": "markdown",
      "metadata": {
        "id": "1g7Iyr2Og5js",
        "colab_type": "text"
      },
      "source": [
        "## Idea for feature engineering"
      ]
    },
    {
      "cell_type": "markdown",
      "metadata": {
        "id": "PnhgMlvVi3mO",
        "colab_type": "text"
      },
      "source": [
        "condition == 1    Resting state"
      ]
    },
    {
      "cell_type": "code",
      "metadata": {
        "id": "zMskWu9Ng5jv",
        "colab_type": "code",
        "colab": {
          "base_uri": "https://localhost:8080/",
          "height": 296
        },
        "outputId": "3a4cb532-bebc-4f3c-f006-c17e4392fef3"
      },
      "source": [
        "df_train[df_train['condition'] == 1].groupby('time')['F4'].mean().plot()"
      ],
      "execution_count": 60,
      "outputs": [
        {
          "output_type": "execute_result",
          "data": {
            "text/plain": [
              "<matplotlib.axes._subplots.AxesSubplot at 0x7f44c4e8dd30>"
            ]
          },
          "metadata": {
            "tags": []
          },
          "execution_count": 60
        },
        {
          "output_type": "display_data",
          "data": {
            "image/png": "[encoded data removed]",
            "text/plain": [
              "<Figure size 432x288 with 1 Axes>"
            ]
          },
          "metadata": {
            "tags": [],
            "needs_background": "light"
          }
        }
      ]
    },
    {
      "cell_type": "code",
      "metadata": {
        "id": "RMjD9dBrg5jz",
        "colab_type": "code",
        "colab": {
          "base_uri": "https://localhost:8080/",
          "height": 296
        },
        "outputId": "3b8107d1-99ea-4eb1-8c62-f40c816a2878"
      },
      "source": [
        "df_train[df_train['condition'] != 1].groupby('time')['F4'].mean().plot()"
      ],
      "execution_count": 61,
      "outputs": [
        {
          "output_type": "execute_result",
          "data": {
            "text/plain": [
              "<matplotlib.axes._subplots.AxesSubplot at 0x7f44c4df3be0>"
            ]
          },
          "metadata": {
            "tags": []
          },
          "execution_count": 61
        },
        {
          "output_type": "display_data",
          "data": {
            "image/png": "[encoded data removed]",
            "text/plain": [
              "<Figure size 432x288 with 1 Axes>"
            ]
          },
          "metadata": {
            "tags": [],
            "needs_background": "light"
          }
        }
      ]
    },
    {
      "cell_type": "code",
      "metadata": {
        "id": "oJKoyhcIg5j2",
        "colab_type": "code",
        "colab": {}
      },
      "source": [
        "def calc_features(df):\n",
        "    feats = []\n",
        "    for epoch_idx, epoch_df in df.groupby('epoch'):\n",
        "\n",
        "        epoch_df = epoch_df[ch_names]\n",
        "\n",
        "        psds, freqs = psd_array_multitaper(epoch_df.T.values, 160, verbose=False)\n",
        "\n",
        "        total_power = psds.sum(axis=1)\n",
        "\n",
        "        idx_from = np.where(freqs > 13)[0][0]\n",
        "        idx_to = np.where(freqs > 25)[0][0]\n",
        "        b_pwr = psds[:,idx_from:idx_to].sum(axis=1) / total_power\n",
        "\n",
        "        d = {}\n",
        "        d['epoch'] = epoch_idx\n",
        "\n",
        "        for ch in ch_names:\n",
        "            s = epoch_df.iloc[40:][ch]\n",
        "            val = (s > 5).sum()\n",
        "            d[ch.lower() + '_p300'] = val\n",
        "\n",
        "        feats.append(d)\n",
        "\n",
        "    feats_df = pd.DataFrame(feats)\n",
        "    \n",
        "    return feats_df"
      ],
      "execution_count": 95,
      "outputs": []
    },
    {
      "cell_type": "markdown",
      "metadata": {
        "id": "33RFuVZ-g5j6",
        "colab_type": "text"
      },
      "source": [
        "## Common ML workflow"
      ]
    },
    {
      "cell_type": "code",
      "metadata": {
        "id": "hg18E11Vg5j7",
        "colab_type": "code",
        "colab": {
          "base_uri": "https://localhost:8080/",
          "height": 255
        },
        "outputId": "f023b708-7e11-44ea-b556-2270909913a7"
      },
      "source": [
        "X = get_target(df_train)\n",
        "print(calc_features(df_train))\n",
        "X = X.merge(calc_features(df_train), on='epoch')\n",
        "y = X['condition'].apply(lambda x: 0 if x == 1 else 1)\n",
        "del X['epoch']\n",
        "del X['condition']"
      ],
      "execution_count": 96,
      "outputs": [
        {
          "output_type": "stream",
          "text": [
            "     epoch  c3_p300  cz_p300  c4_p300  ...  p4_p300  p8_p300  o1_p300  o2_p300\n",
            "0        0       10       20       21  ...       22       19       27       25\n",
            "1        2       19       18       18  ...       17       18       18       17\n",
            "2        6        7        9       12  ...       19       20       23       19\n",
            "3        8        9       15       17  ...       17       22        8       10\n",
            "4       11        7        8       12  ...       10       13       15       13\n",
            "..     ...      ...      ...      ...  ...      ...      ...      ...      ...\n",
            "175    292       12       15        9  ...       12       18       23       22\n",
            "176    293       11        9        8  ...       15       14       15       16\n",
            "177    294       15       14       15  ...       13       15       17       16\n",
            "178    297       29       21       18  ...       24       23       31       28\n",
            "179    298       14       13       23  ...       18        9       19       10\n",
            "\n",
            "[180 rows x 20 columns]\n"
          ],
          "name": "stdout"
        }
      ]
    },
    {
      "cell_type": "code",
      "metadata": {
        "id": "el5y7m4Zg5j_",
        "colab_type": "code",
        "colab": {}
      },
      "source": [
        "X_train, X_test, y_train, y_test = train_test_split(\n",
        "    X, y, test_size=0.33, random_state=42)"
      ],
      "execution_count": 97,
      "outputs": []
    },
    {
      "cell_type": "code",
      "metadata": {
        "id": "AGeUIw8rg5kF",
        "colab_type": "code",
        "colab": {}
      },
      "source": [
        "scaler = StandardScaler()\n",
        "X_train_sc = scaler.fit_transform(X_train)\n",
        "X_test_sc = scaler.transform(X_test)"
      ],
      "execution_count": 98,
      "outputs": []
    },
    {
      "cell_type": "markdown",
      "metadata": {
        "id": "NoGLSPdUmB5A",
        "colab_type": "text"
      },
      "source": [
        "### Logistic Regression"
      ]
    },
    {
      "cell_type": "code",
      "metadata": {
        "id": "gZY66kxuo0hd",
        "colab_type": "code",
        "colab": {
          "base_uri": "https://localhost:8080/",
          "height": 102
        },
        "outputId": "76311e7d-eecb-448b-ad36-8ba6fa920cc5"
      },
      "source": [
        "model = LogisticRegression(penalty='l2', solver = 'liblinear', C = 0.5)\n",
        "model.fit(X_train_sc, y_train)"
      ],
      "execution_count": 99,
      "outputs": [
        {
          "output_type": "execute_result",
          "data": {
            "text/plain": [
              "LogisticRegression(C=0.5, class_weight=None, dual=False, fit_intercept=True,\n",
              "                   intercept_scaling=1, l1_ratio=None, max_iter=100,\n",
              "                   multi_class='auto', n_jobs=None, penalty='l2',\n",
              "                   random_state=None, solver='liblinear', tol=0.0001, verbose=0,\n",
              "                   warm_start=False)"
            ]
          },
          "metadata": {
            "tags": []
          },
          "execution_count": 99
        }
      ]
    },
    {
      "cell_type": "code",
      "metadata": {
        "id": "wxynkiiZg5kP",
        "colab_type": "code",
        "colab": {
          "base_uri": "https://localhost:8080/",
          "height": 34
        },
        "outputId": "106f51f9-1e4a-4d81-8246-042700865ffa"
      },
      "source": [
        "y_pred_train = model.predict_proba(X_train_sc)[:, 1]\n",
        "roc_auc_score(y_train, y_pred_train)"
      ],
      "execution_count": 100,
      "outputs": [
        {
          "output_type": "execute_result",
          "data": {
            "text/plain": [
              "0.795200892857143"
            ]
          },
          "metadata": {
            "tags": []
          },
          "execution_count": 100
        }
      ]
    },
    {
      "cell_type": "code",
      "metadata": {
        "id": "CYlcCP25g5kU",
        "colab_type": "code",
        "colab": {}
      },
      "source": [
        "y_pred = model.predict_proba(X_test_sc)[:, 1]"
      ],
      "execution_count": 101,
      "outputs": []
    },
    {
      "cell_type": "code",
      "metadata": {
        "id": "ScZbGNaHg5kY",
        "colab_type": "code",
        "colab": {
          "base_uri": "https://localhost:8080/",
          "height": 34
        },
        "outputId": "151f6311-e5b9-4b86-c027-472936acabcd"
      },
      "source": [
        "roc_auc_score(y_test, y_pred)\n",
        "print(len(y_test))"
      ],
      "execution_count": 102,
      "outputs": [
        {
          "output_type": "stream",
          "text": [
            "60\n"
          ],
          "name": "stdout"
        }
      ]
    },
    {
      "cell_type": "code",
      "metadata": {
        "id": "TgSi0cMUmANE",
        "colab_type": "code",
        "colab": {
          "base_uri": "https://localhost:8080/",
          "height": 34
        },
        "outputId": "af6e9207-606d-4826-879c-561c238fa34f"
      },
      "source": [
        "y_pred_train = model.predict_proba(X_train_sc)[:, 1]\n",
        "roc_auc_score(y_train, y_pred_train)"
      ],
      "execution_count": 103,
      "outputs": [
        {
          "output_type": "execute_result",
          "data": {
            "text/plain": [
              "0.795200892857143"
            ]
          },
          "metadata": {
            "tags": []
          },
          "execution_count": 103
        }
      ]
    },
    {
      "cell_type": "markdown",
      "metadata": {
        "id": "9cDH0rcumI-E",
        "colab_type": "text"
      },
      "source": [
        "### Random Forest"
      ]
    },
    {
      "cell_type": "code",
      "metadata": {
        "id": "-IzeD1gVmLjK",
        "colab_type": "code",
        "colab": {}
      },
      "source": [
        "from sklearn.ensemble import RandomForestClassifier\n",
        "from sklearn.model_selection import GridSearchCV\n",
        "from sklearn.model_selection import RandomizedSearchCV\n",
        "\n",
        "parameters = {\n",
        "    'n_estimators'      : [10, 15, 20, 30, 40, 50],\n",
        "    'max_depth'         : [9, 11, 13, 15, 17],\n",
        "    'criterion'         : ['gini']\n",
        "}"
      ],
      "execution_count": 128,
      "outputs": []
    },
    {
      "cell_type": "code",
      "metadata": {
        "id": "5zUl_wNEg0fg",
        "colab_type": "code",
        "colab": {
          "base_uri": "https://localhost:8080/",
          "height": 530
        },
        "outputId": "796fd1e1-a98d-47fd-b922-da4cacb37ba0"
      },
      "source": [
        "n_iter = 20\n",
        "\n",
        "clf = RandomizedSearchCV(RandomForestClassifier(), param_distributions=parameters,\n",
        "                                   n_iter=n_iter, cv=5, iid=False,\n",
        "                                  scoring = 'roc_auc')\n",
        "clf.fit(X_train, y_train)"
      ],
      "execution_count": 129,
      "outputs": [
        {
          "output_type": "stream",
          "text": [
            "/usr/local/lib/python3.6/dist-packages/sklearn/model_selection/_search.py:823: FutureWarning: The parameter 'iid' is deprecated in 0.22 and will be removed in 0.24.\n",
            "  \"removed in 0.24.\", FutureWarning\n"
          ],
          "name": "stderr"
        },
        {
          "output_type": "execute_result",
          "data": {
            "text/plain": [
              "RandomizedSearchCV(cv=5, error_score=nan,\n",
              "                   estimator=RandomForestClassifier(bootstrap=True,\n",
              "                                                    ccp_alpha=0.0,\n",
              "                                                    class_weight=None,\n",
              "                                                    criterion='gini',\n",
              "                                                    max_depth=None,\n",
              "                                                    max_features='auto',\n",
              "                                                    max_leaf_nodes=None,\n",
              "                                                    max_samples=None,\n",
              "                                                    min_impurity_decrease=0.0,\n",
              "                                                    min_impurity_split=None,\n",
              "                                                    min_samples_leaf=1,\n",
              "                                                    min_samples_split=2,\n",
              "                                                    min_weight_fraction_leaf=0.0,\n",
              "                                                    n_estimators=100,\n",
              "                                                    n_jobs=None,\n",
              "                                                    oob_score=False,\n",
              "                                                    random_state=None,\n",
              "                                                    verbose=0,\n",
              "                                                    warm_start=False),\n",
              "                   iid=False, n_iter=20, n_jobs=None,\n",
              "                   param_distributions={'criterion': ['gini'],\n",
              "                                        'max_depth': [9, 11, 13, 15, 17],\n",
              "                                        'n_estimators': [10, 15, 20, 30, 40,\n",
              "                                                         50]},\n",
              "                   pre_dispatch='2*n_jobs', random_state=None, refit=True,\n",
              "                   return_train_score=False, scoring='roc_auc', verbose=0)"
            ]
          },
          "metadata": {
            "tags": []
          },
          "execution_count": 129
        }
      ]
    },
    {
      "cell_type": "code",
      "metadata": {
        "id": "M_nAoKaomoBn",
        "colab_type": "code",
        "colab": {
          "base_uri": "https://localhost:8080/",
          "height": 725
        },
        "outputId": "3a166895-5b18-4f72-9be1-478154240fe3"
      },
      "source": [
        "pars = pd.DataFrame(clf.cv_results_)\n",
        "pars.sort_values(by=['rank_test_score']).head(n=8)"
      ],
      "execution_count": 130,
      "outputs": [
        {
          "output_type": "execute_result",
          "data": {
            "text/html": [
              "<div>\n",
              "<style scoped>\n",
              "    .dataframe tbody tr th:only-of-type {\n",
              "        vertical-align: middle;\n",
              "    }\n",
              "\n",
              "    .dataframe tbody tr th {\n",
              "        vertical-align: top;\n",
              "    }\n",
              "\n",
              "    .dataframe thead th {\n",
              "        text-align: right;\n",
              "    }\n",
              "</style>\n",
              "<table border=\"1\" class=\"dataframe\">\n",
              "  <thead>\n",
              "    <tr style=\"text-align: right;\">\n",
              "      <th></th>\n",
              "      <th>mean_fit_time</th>\n",
              "      <th>std_fit_time</th>\n",
              "      <th>mean_score_time</th>\n",
              "      <th>std_score_time</th>\n",
              "      <th>param_n_estimators</th>\n",
              "      <th>param_max_depth</th>\n",
              "      <th>param_criterion</th>\n",
              "      <th>params</th>\n",
              "      <th>split0_test_score</th>\n",
              "      <th>split1_test_score</th>\n",
              "      <th>split2_test_score</th>\n",
              "      <th>split3_test_score</th>\n",
              "      <th>split4_test_score</th>\n",
              "      <th>mean_test_score</th>\n",
              "      <th>std_test_score</th>\n",
              "      <th>rank_test_score</th>\n",
              "    </tr>\n",
              "  </thead>\n",
              "  <tbody>\n",
              "    <tr>\n",
              "      <th>12</th>\n",
              "      <td>0.067360</td>\n",
              "      <td>0.004040</td>\n",
              "      <td>0.005825</td>\n",
              "      <td>0.000122</td>\n",
              "      <td>50</td>\n",
              "      <td>17</td>\n",
              "      <td>gini</td>\n",
              "      <td>{'n_estimators': 50, 'max_depth': 17, 'criteri...</td>\n",
              "      <td>0.854167</td>\n",
              "      <td>0.493007</td>\n",
              "      <td>0.786713</td>\n",
              "      <td>0.954545</td>\n",
              "      <td>0.580420</td>\n",
              "      <td>0.733770</td>\n",
              "      <td>0.171769</td>\n",
              "      <td>1</td>\n",
              "    </tr>\n",
              "    <tr>\n",
              "      <th>11</th>\n",
              "      <td>0.045640</td>\n",
              "      <td>0.000118</td>\n",
              "      <td>0.004907</td>\n",
              "      <td>0.000047</td>\n",
              "      <td>30</td>\n",
              "      <td>9</td>\n",
              "      <td>gini</td>\n",
              "      <td>{'n_estimators': 30, 'max_depth': 9, 'criterio...</td>\n",
              "      <td>0.868056</td>\n",
              "      <td>0.520979</td>\n",
              "      <td>0.769231</td>\n",
              "      <td>0.933566</td>\n",
              "      <td>0.569930</td>\n",
              "      <td>0.732352</td>\n",
              "      <td>0.162063</td>\n",
              "      <td>2</td>\n",
              "    </tr>\n",
              "    <tr>\n",
              "      <th>7</th>\n",
              "      <td>0.024487</td>\n",
              "      <td>0.000153</td>\n",
              "      <td>0.003722</td>\n",
              "      <td>0.000042</td>\n",
              "      <td>15</td>\n",
              "      <td>15</td>\n",
              "      <td>gini</td>\n",
              "      <td>{'n_estimators': 15, 'max_depth': 15, 'criteri...</td>\n",
              "      <td>0.770833</td>\n",
              "      <td>0.580420</td>\n",
              "      <td>0.776224</td>\n",
              "      <td>0.863636</td>\n",
              "      <td>0.643357</td>\n",
              "      <td>0.726894</td>\n",
              "      <td>0.101485</td>\n",
              "      <td>3</td>\n",
              "    </tr>\n",
              "    <tr>\n",
              "      <th>6</th>\n",
              "      <td>0.057739</td>\n",
              "      <td>0.002852</td>\n",
              "      <td>0.005622</td>\n",
              "      <td>0.000242</td>\n",
              "      <td>40</td>\n",
              "      <td>15</td>\n",
              "      <td>gini</td>\n",
              "      <td>{'n_estimators': 40, 'max_depth': 15, 'criteri...</td>\n",
              "      <td>0.805556</td>\n",
              "      <td>0.513986</td>\n",
              "      <td>0.769231</td>\n",
              "      <td>0.905594</td>\n",
              "      <td>0.618881</td>\n",
              "      <td>0.722650</td>\n",
              "      <td>0.139155</td>\n",
              "      <td>4</td>\n",
              "    </tr>\n",
              "    <tr>\n",
              "      <th>13</th>\n",
              "      <td>0.027594</td>\n",
              "      <td>0.000438</td>\n",
              "      <td>0.003753</td>\n",
              "      <td>0.000077</td>\n",
              "      <td>20</td>\n",
              "      <td>9</td>\n",
              "      <td>gini</td>\n",
              "      <td>{'n_estimators': 20, 'max_depth': 9, 'criterio...</td>\n",
              "      <td>0.743056</td>\n",
              "      <td>0.597902</td>\n",
              "      <td>0.699301</td>\n",
              "      <td>0.951049</td>\n",
              "      <td>0.615385</td>\n",
              "      <td>0.721338</td>\n",
              "      <td>0.126639</td>\n",
              "      <td>5</td>\n",
              "    </tr>\n",
              "    <tr>\n",
              "      <th>8</th>\n",
              "      <td>0.031382</td>\n",
              "      <td>0.000245</td>\n",
              "      <td>0.004095</td>\n",
              "      <td>0.000052</td>\n",
              "      <td>20</td>\n",
              "      <td>11</td>\n",
              "      <td>gini</td>\n",
              "      <td>{'n_estimators': 20, 'max_depth': 11, 'criteri...</td>\n",
              "      <td>0.822917</td>\n",
              "      <td>0.531469</td>\n",
              "      <td>0.692308</td>\n",
              "      <td>0.891608</td>\n",
              "      <td>0.664336</td>\n",
              "      <td>0.720527</td>\n",
              "      <td>0.126055</td>\n",
              "      <td>6</td>\n",
              "    </tr>\n",
              "    <tr>\n",
              "      <th>0</th>\n",
              "      <td>0.045078</td>\n",
              "      <td>0.003190</td>\n",
              "      <td>0.005058</td>\n",
              "      <td>0.000909</td>\n",
              "      <td>30</td>\n",
              "      <td>17</td>\n",
              "      <td>gini</td>\n",
              "      <td>{'n_estimators': 30, 'max_depth': 17, 'criteri...</td>\n",
              "      <td>0.850694</td>\n",
              "      <td>0.580420</td>\n",
              "      <td>0.671329</td>\n",
              "      <td>0.888112</td>\n",
              "      <td>0.601399</td>\n",
              "      <td>0.718391</td>\n",
              "      <td>0.127474</td>\n",
              "      <td>7</td>\n",
              "    </tr>\n",
              "    <tr>\n",
              "      <th>3</th>\n",
              "      <td>0.066696</td>\n",
              "      <td>0.001365</td>\n",
              "      <td>0.005820</td>\n",
              "      <td>0.000101</td>\n",
              "      <td>50</td>\n",
              "      <td>13</td>\n",
              "      <td>gini</td>\n",
              "      <td>{'n_estimators': 50, 'max_depth': 13, 'criteri...</td>\n",
              "      <td>0.850694</td>\n",
              "      <td>0.538462</td>\n",
              "      <td>0.751748</td>\n",
              "      <td>0.849650</td>\n",
              "      <td>0.587413</td>\n",
              "      <td>0.715593</td>\n",
              "      <td>0.130642</td>\n",
              "      <td>8</td>\n",
              "    </tr>\n",
              "  </tbody>\n",
              "</table>\n",
              "</div>"
            ],
            "text/plain": [
              "    mean_fit_time  std_fit_time  ...  std_test_score  rank_test_score\n",
              "12       0.067360      0.004040  ...        0.171769                1\n",
              "11       0.045640      0.000118  ...        0.162063                2\n",
              "7        0.024487      0.000153  ...        0.101485                3\n",
              "6        0.057739      0.002852  ...        0.139155                4\n",
              "13       0.027594      0.000438  ...        0.126639                5\n",
              "8        0.031382      0.000245  ...        0.126055                6\n",
              "0        0.045078      0.003190  ...        0.127474                7\n",
              "3        0.066696      0.001365  ...        0.130642                8\n",
              "\n",
              "[8 rows x 16 columns]"
            ]
          },
          "metadata": {
            "tags": []
          },
          "execution_count": 130
        }
      ]
    },
    {
      "cell_type": "code",
      "metadata": {
        "id": "3XhUyl99igg1",
        "colab_type": "code",
        "colab": {
          "base_uri": "https://localhost:8080/",
          "height": 34
        },
        "outputId": "0ca9dc51-fdac-4e22-9e39-da05464a4aaf"
      },
      "source": [
        "clf.best_params_"
      ],
      "execution_count": 131,
      "outputs": [
        {
          "output_type": "execute_result",
          "data": {
            "text/plain": [
              "{'criterion': 'gini', 'max_depth': 17, 'n_estimators': 50}"
            ]
          },
          "metadata": {
            "tags": []
          },
          "execution_count": 131
        }
      ]
    },
    {
      "cell_type": "code",
      "metadata": {
        "id": "Izy-zTaQjNnh",
        "colab_type": "code",
        "colab": {
          "base_uri": "https://localhost:8080/",
          "height": 153
        },
        "outputId": "e4022cce-801f-488a-df43-2e074b5d8efd"
      },
      "source": [
        "rf_model = RandomForestClassifier(n_estimators=50, criterion='gini', max_depth=17)\n",
        "rf_model.fit(X_train, y_train)"
      ],
      "execution_count": 132,
      "outputs": [
        {
          "output_type": "execute_result",
          "data": {
            "text/plain": [
              "RandomForestClassifier(bootstrap=True, ccp_alpha=0.0, class_weight=None,\n",
              "                       criterion='gini', max_depth=17, max_features='auto',\n",
              "                       max_leaf_nodes=None, max_samples=None,\n",
              "                       min_impurity_decrease=0.0, min_impurity_split=None,\n",
              "                       min_samples_leaf=1, min_samples_split=2,\n",
              "                       min_weight_fraction_leaf=0.0, n_estimators=50,\n",
              "                       n_jobs=None, oob_score=False, random_state=None,\n",
              "                       verbose=0, warm_start=False)"
            ]
          },
          "metadata": {
            "tags": []
          },
          "execution_count": 132
        }
      ]
    },
    {
      "cell_type": "code",
      "metadata": {
        "id": "jljvRWgQmNhX",
        "colab_type": "code",
        "colab": {
          "base_uri": "https://localhost:8080/",
          "height": 34
        },
        "outputId": "31feed91-aa8f-441d-877e-cbce1883d9b8"
      },
      "source": [
        "y_pred_test_rf = rf_model.predict(X_test)\n",
        "roc_auc_score(y_pred_test_rf, y_test)"
      ],
      "execution_count": 133,
      "outputs": [
        {
          "output_type": "execute_result",
          "data": {
            "text/plain": [
              "0.6314285714285715"
            ]
          },
          "metadata": {
            "tags": []
          },
          "execution_count": 133
        }
      ]
    },
    {
      "cell_type": "code",
      "metadata": {
        "id": "uN_BYfslpp4o",
        "colab_type": "code",
        "colab": {
          "base_uri": "https://localhost:8080/",
          "height": 119
        },
        "outputId": "091cf7ad-9dfe-4757-e417-03570237ea09"
      },
      "source": [
        "y_pred_train_rf"
      ],
      "execution_count": 134,
      "outputs": [
        {
          "output_type": "execute_result",
          "data": {
            "text/plain": [
              "array([1, 1, 1, 1, 0, 0, 1, 0, 1, 1, 0, 1, 0, 1, 0, 0, 1, 0, 1, 1, 1, 0,\n",
              "       0, 1, 0, 0, 0, 1, 1, 1, 0, 1, 1, 0, 1, 0, 1, 0, 0, 1, 0, 0, 1, 0,\n",
              "       0, 0, 0, 1, 1, 0, 0, 1, 0, 0, 0, 1, 1, 1, 0, 1, 0, 0, 0, 0, 1, 0,\n",
              "       1, 1, 0, 1, 0, 0, 0, 0, 1, 1, 1, 1, 0, 0, 0, 0, 1, 0, 0, 0, 0, 1,\n",
              "       1, 0, 1, 0, 0, 1, 0, 0, 1, 0, 0, 0, 1, 1, 1, 1, 1, 0, 0, 0, 1, 1,\n",
              "       1, 1, 0, 0, 1, 0, 1, 0, 1, 0])"
            ]
          },
          "metadata": {
            "tags": []
          },
          "execution_count": 134
        }
      ]
    },
    {
      "cell_type": "markdown",
      "metadata": {
        "id": "h-avMG4tg5kb",
        "colab_type": "text"
      },
      "source": [
        "## Visualize t-SNE"
      ]
    },
    {
      "cell_type": "code",
      "metadata": {
        "id": "GI4dNUsOg5kc",
        "colab_type": "code",
        "colab": {}
      },
      "source": [
        "X_embedded = TSNE(n_components=2).fit_transform(X)"
      ],
      "execution_count": 74,
      "outputs": []
    },
    {
      "cell_type": "code",
      "metadata": {
        "id": "w1zIOUqng5kg",
        "colab_type": "code",
        "colab": {
          "base_uri": "https://localhost:8080/",
          "height": 282
        },
        "outputId": "b0ae191f-b35d-4a46-dab1-1ad1ab82acb4"
      },
      "source": [
        "plt.scatter(X_embedded[np.where(y == 0), 0], X_embedded[np.where(y == 0), 1])\n",
        "plt.scatter(X_embedded[np.where(y == 1), 0], X_embedded[np.where(y == 1), 1])"
      ],
      "execution_count": 75,
      "outputs": [
        {
          "output_type": "execute_result",
          "data": {
            "text/plain": [
              "<matplotlib.collections.PathCollection at 0x7f44c4c6e710>"
            ]
          },
          "metadata": {
            "tags": []
          },
          "execution_count": 75
        },
        {
          "output_type": "display_data",
          "data": {
            "image/png": "[encoded data removed]",
            "text/plain": [
              "<Figure size 432x288 with 1 Axes>"
            ]
          },
          "metadata": {
            "tags": [],
            "needs_background": "light"
          }
        }
      ]
    },
    {
      "cell_type": "markdown",
      "metadata": {
        "id": "J3j5Bs0rg5km",
        "colab_type": "text"
      },
      "source": [
        "## Build submission"
      ]
    },
    {
      "cell_type": "code",
      "metadata": {
        "id": "tWfi9DS6g5km",
        "colab_type": "code",
        "colab": {}
      },
      "source": [
        "scaler = StandardScaler()\n",
        "X_sc = scaler.fit_transform(X)"
      ],
      "execution_count": 76,
      "outputs": []
    },
    {
      "cell_type": "code",
      "metadata": {
        "id": "o38sEiMPg5kq",
        "colab_type": "code",
        "colab": {
          "base_uri": "https://localhost:8080/",
          "height": 102
        },
        "outputId": "a810a355-dd70-44a6-8abf-598a735fb06d"
      },
      "source": [
        "model.fit(X_sc, y)"
      ],
      "execution_count": 77,
      "outputs": [
        {
          "output_type": "execute_result",
          "data": {
            "text/plain": [
              "LogisticRegression(C=0.5, class_weight=None, dual=False, fit_intercept=True,\n",
              "                   intercept_scaling=1, l1_ratio=None, max_iter=100,\n",
              "                   multi_class='auto', n_jobs=None, penalty='l2',\n",
              "                   random_state=None, solver='liblinear', tol=0.0001, verbose=0,\n",
              "                   warm_start=False)"
            ]
          },
          "metadata": {
            "tags": []
          },
          "execution_count": 77
        }
      ]
    },
    {
      "cell_type": "code",
      "metadata": {
        "id": "Sl_qjv_Kg5kw",
        "colab_type": "code",
        "colab": {}
      },
      "source": [
        "X_test = calc_features(df_test)\n",
        "submission = X_test[['epoch']].copy()\n",
        "del X_test['epoch']\n",
        "X_test_sc = scaler.transform(X_test)"
      ],
      "execution_count": 78,
      "outputs": []
    },
    {
      "cell_type": "code",
      "metadata": {
        "id": "vciUYWpmg5k0",
        "colab_type": "code",
        "colab": {}
      },
      "source": [
        "y_pred = model.predict_proba(X_test_sc)[:, 1]"
      ],
      "execution_count": 79,
      "outputs": []
    },
    {
      "cell_type": "code",
      "metadata": {
        "id": "NYAZt-Pbg5k3",
        "colab_type": "code",
        "colab": {}
      },
      "source": [
        "submission['Predicted'] = y_pred"
      ],
      "execution_count": 80,
      "outputs": []
    },
    {
      "cell_type": "code",
      "metadata": {
        "id": "-gSbTWCKg5k9",
        "colab_type": "code",
        "colab": {}
      },
      "source": [
        "submission['Id'] = submission['epoch']\n",
        "del submission['epoch']"
      ],
      "execution_count": 81,
      "outputs": []
    },
    {
      "cell_type": "code",
      "metadata": {
        "id": "sEs9Nrpbg5lC",
        "colab_type": "code",
        "colab": {}
      },
      "source": [
        "submission.to_csv('log_reg_submission.csv', index=False)"
      ],
      "execution_count": 83,
      "outputs": []
    },
    {
      "cell_type": "code",
      "metadata": {
        "id": "Q-m_Ih0mkcXg",
        "colab_type": "code",
        "colab": {}
      },
      "source": [
        ""
      ],
      "execution_count": null,
      "outputs": []
    }
  ]
}